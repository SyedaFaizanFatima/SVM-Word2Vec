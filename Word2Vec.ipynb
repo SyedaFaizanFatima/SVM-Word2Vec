{
  "nbformat": 4,
  "nbformat_minor": 0,
  "metadata": {
    "colab": {
      "name": "NLP-Assignment5-GroupH-Word2Vec.ipynb",
      "provenance": [],
      "collapsed_sections": []
    },
    "kernelspec": {
      "name": "python3",
      "display_name": "Python 3"
    }
  },
  "cells": [
    {
      "cell_type": "markdown",
      "metadata": {
        "id": "BjTGjbBeWiLU"
      },
      "source": [
        "**Word2Vec Using CBOW**\r\n",
        "\r\n"
      ]
    },
    {
      "cell_type": "code",
      "metadata": {
        "id": "r_tXa7JLAV2f"
      },
      "source": [
        "from nltk.corpus import brown \r\n",
        "from gensim.models import Word2Vec, KeyedVectors \r\n",
        "import multiprocessing"
      ],
      "execution_count": 3,
      "outputs": []
    },
    {
      "cell_type": "code",
      "metadata": {
        "colab": {
          "base_uri": "https://localhost:8080/"
        },
        "id": "I1ZbCXFoJTmP",
        "outputId": "735095d6-ad1e-4e4a-ebc6-e9d5dc75c3a7"
      },
      "source": [
        "# Load the Drive helper and mount google Drive\r\n",
        "from google.colab import drive\r\n",
        "drive.mount('/content/drive')"
      ],
      "execution_count": 4,
      "outputs": [
        {
          "output_type": "stream",
          "text": [
            "Mounted at /content/drive\n"
          ],
          "name": "stdout"
        }
      ]
    },
    {
      "cell_type": "code",
      "metadata": {
        "id": "3qA8S5oWF3Ro"
      },
      "source": [
        "data = [line.strip() for line in open(\"/content/drive/My Drive/brown.txt\", 'r')]\r\n",
        "sentences = [[word.lower() for word in text.split()] for text in data]"
      ],
      "execution_count": null,
      "outputs": []
    },
    {
      "cell_type": "code",
      "metadata": {
        "id": "9QLOdm-cB8KK"
      },
      "source": [
        "EMB_DIM=100 \r\n",
        "window_size=2\r\n",
        "w2v= Word2Vec(sentences, size=EMB_DIM, window=window_size, min_count=5, negative=15, iter=10, workers=multiprocessing.cpu_count())"
      ],
      "execution_count": null,
      "outputs": []
    },
    {
      "cell_type": "code",
      "metadata": {
        "colab": {
          "base_uri": "https://localhost:8080/"
        },
        "id": "yGDTcnXyDhlu",
        "outputId": "f2127631-0ae0-4fee-f854-e81cb614aa64"
      },
      "source": [
        "word_vectors=w2v.wv\r\n",
        "result=word_vectors.similar_by_word(\"saturday\")\r\n",
        "print(\"Most similar to Saturday : \" ,result[:3])"
      ],
      "execution_count": null,
      "outputs": [
        {
          "output_type": "stream",
          "text": [
            "Most similar to Saturday :  [('monday', 0.8992493748664856), ('wednesday', 0.8800272345542908), ('friday', 0.8793337345123291)]\n"
          ],
          "name": "stdout"
        }
      ]
    },
    {
      "cell_type": "code",
      "metadata": {
        "id": "9jQ7n2rqLNJH"
      },
      "source": [
        "w2v.wv.save_word2vec_format('model_2_100.bin', binary=True)"
      ],
      "execution_count": null,
      "outputs": []
    },
    {
      "cell_type": "code",
      "metadata": {
        "id": "KsxE9flbQAUQ"
      },
      "source": [
        "EMB_DIM=300 \r\n",
        "window_size=2\r\n",
        "w2v= Word2Vec(sentences, size=EMB_DIM, window=window_size, min_count=5, negative=15, iter=10, workers=multiprocessing.cpu_count())"
      ],
      "execution_count": null,
      "outputs": []
    },
    {
      "cell_type": "code",
      "metadata": {
        "id": "J6BlF-m9QLQj"
      },
      "source": [
        "w2v.wv.save_word2vec_format('model_2_300.bin', binary=True)"
      ],
      "execution_count": null,
      "outputs": []
    },
    {
      "cell_type": "code",
      "metadata": {
        "id": "Elxa8HJfQbeB"
      },
      "source": [
        "EMB_DIM=1000 \r\n",
        "window_size=2\r\n",
        "w2v= Word2Vec(sentences, size=EMB_DIM, window=window_size, min_count=5, negative=15, iter=10, workers=multiprocessing.cpu_count())"
      ],
      "execution_count": null,
      "outputs": []
    },
    {
      "cell_type": "code",
      "metadata": {
        "id": "RQ6_xoAqQunA"
      },
      "source": [
        "w2v.wv.save_word2vec_format('model_2_1000.bin', binary=True)"
      ],
      "execution_count": null,
      "outputs": []
    },
    {
      "cell_type": "code",
      "metadata": {
        "id": "2fmxwGAmRCAg"
      },
      "source": [
        "EMB_DIM=100 \r\n",
        "window_size=5\r\n",
        "w2v= Word2Vec(sentences, size=EMB_DIM, window=window_size, min_count=5, negative=15, iter=10, workers=multiprocessing.cpu_count())"
      ],
      "execution_count": null,
      "outputs": []
    },
    {
      "cell_type": "code",
      "metadata": {
        "id": "DduCjgZTRIAr"
      },
      "source": [
        "w2v.wv.save_word2vec_format('model_5_100.bin', binary=True)"
      ],
      "execution_count": null,
      "outputs": []
    },
    {
      "cell_type": "code",
      "metadata": {
        "id": "uGOElts4RdrX"
      },
      "source": [
        "EMB_DIM=300 \r\n",
        "window_size=5\r\n",
        "w2v= Word2Vec(sentences, size=EMB_DIM, window=window_size, min_count=5, negative=15, iter=10, workers=multiprocessing.cpu_count())"
      ],
      "execution_count": null,
      "outputs": []
    },
    {
      "cell_type": "code",
      "metadata": {
        "id": "7YQ3LmzLRjG-"
      },
      "source": [
        "w2v.wv.save_word2vec_format('model_5_300.bin', binary=True)"
      ],
      "execution_count": null,
      "outputs": []
    },
    {
      "cell_type": "code",
      "metadata": {
        "id": "6tDsQ9MdRotl"
      },
      "source": [
        "EMB_DIM=1000 \r\n",
        "window_size=5\r\n",
        "w2v= Word2Vec(sentences, size=EMB_DIM, window=window_size, min_count=5, negative=15, iter=10, workers=multiprocessing.cpu_count())"
      ],
      "execution_count": null,
      "outputs": []
    },
    {
      "cell_type": "code",
      "metadata": {
        "id": "yR-swuKcRtgL"
      },
      "source": [
        "w2v.wv.save_word2vec_format('model_5_1000.bin', binary=True)"
      ],
      "execution_count": null,
      "outputs": []
    },
    {
      "cell_type": "code",
      "metadata": {
        "id": "-OLbRryxSU_J"
      },
      "source": [
        "EMB_DIM=100 \r\n",
        "window_size=10\r\n",
        "w2v= Word2Vec(sentences, size=EMB_DIM, window=window_size, min_count=5, negative=15, iter=10, workers=multiprocessing.cpu_count())"
      ],
      "execution_count": null,
      "outputs": []
    },
    {
      "cell_type": "code",
      "metadata": {
        "id": "3pAdxJ1fSgwW"
      },
      "source": [
        "w2v.wv.save_word2vec_format('model_10_100.bin', binary=True)"
      ],
      "execution_count": null,
      "outputs": []
    },
    {
      "cell_type": "code",
      "metadata": {
        "id": "UpSPHIhhSprR"
      },
      "source": [
        "EMB_DIM=300 \r\n",
        "window_size=10\r\n",
        "w2v= Word2Vec(sentences, size=EMB_DIM, window=window_size, min_count=5, negative=15, iter=10, workers=multiprocessing.cpu_count())"
      ],
      "execution_count": null,
      "outputs": []
    },
    {
      "cell_type": "code",
      "metadata": {
        "id": "e0Ywi1olS6JZ"
      },
      "source": [
        "w2v.wv.save_word2vec_format('model_10_300.bin', binary=True)"
      ],
      "execution_count": null,
      "outputs": []
    },
    {
      "cell_type": "code",
      "metadata": {
        "id": "7b4RD22pS_zO"
      },
      "source": [
        "EMB_DIM=1000 \r\n",
        "window_size=10\r\n",
        "w2v= Word2Vec(sentences, size=EMB_DIM, window=window_size, min_count=5, negative=15, iter=10, workers=multiprocessing.cpu_count())"
      ],
      "execution_count": null,
      "outputs": []
    },
    {
      "cell_type": "code",
      "metadata": {
        "id": "97RPotQuTGOI"
      },
      "source": [
        "w2v.wv.save_word2vec_format('model_10_1000.bin', binary=True)"
      ],
      "execution_count": null,
      "outputs": []
    }
  ]
}